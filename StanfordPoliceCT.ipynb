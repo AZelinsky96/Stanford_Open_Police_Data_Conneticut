{
 "cells": [
  {
   "cell_type": "markdown",
   "metadata": {},
   "source": [
    "# Examination of the Stanford Open data for Conneticut. "
   ]
  },
  {
   "cell_type": "markdown",
   "metadata": {},
   "source": [
    "## Importing the modules and setting up directory:"
   ]
  },
  {
   "cell_type": "code",
   "execution_count": 1,
   "metadata": {},
   "outputs": [],
   "source": [
    "import pandas as pd\n",
    "import matplotlib.pyplot as plt\n",
    "import os\n",
    "%matplotlib inline"
   ]
  },
  {
   "cell_type": "code",
   "execution_count": 2,
   "metadata": {},
   "outputs": [
    {
     "data": {
      "text/plain": [
       "['CA_2013_onwards.csv', 'CT.csv', 'CO.csv', 'DATA-README.md', 'AZ.csv']"
      ]
     },
     "execution_count": 2,
     "metadata": {},
     "output_type": "execute_result"
    }
   ],
   "source": [
    "os.chdir('/home/zeski/Documents/Data_Science/DataSets/ProjectDataSets/Stanford/')\n",
    "os.listdir()"
   ]
  },
  {
   "cell_type": "markdown",
   "metadata": {},
   "source": [
    "## EDA and Cleaning:"
   ]
  },
  {
   "cell_type": "code",
   "execution_count": 3,
   "metadata": {},
   "outputs": [
    {
     "name": "stderr",
     "output_type": "stream",
     "text": [
      "/home/zeski/anaconda3/lib/python3.6/site-packages/IPython/core/interactiveshell.py:2785: DtypeWarning: Columns (22) have mixed types. Specify dtype option on import or set low_memory=False.\n",
      "  interactivity=interactivity, compiler=compiler, result=result)\n"
     ]
    },
    {
     "name": "stdout",
     "output_type": "stream",
     "text": [
      "This is the info for each column within the dataframe:\n",
      "\n",
      "<class 'pandas.core.frame.DataFrame'>\n",
      "RangeIndex: 318669 entries, 0 to 318668\n",
      "Data columns (total 24 columns):\n",
      "id                       318669 non-null object\n",
      "state                    318669 non-null object\n",
      "stop_date                318669 non-null object\n",
      "stop_time                318447 non-null object\n",
      "location_raw             318628 non-null object\n",
      "county_name              318627 non-null object\n",
      "county_fips              318627 non-null float64\n",
      "fine_grained_location    317006 non-null object\n",
      "police_department        318669 non-null object\n",
      "driver_gender            318669 non-null object\n",
      "driver_age_raw           318669 non-null int64\n",
      "driver_age               318395 non-null float64\n",
      "driver_race_raw          318669 non-null object\n",
      "driver_race              318669 non-null object\n",
      "violation_raw            318669 non-null object\n",
      "violation                318669 non-null object\n",
      "search_conducted         318669 non-null bool\n",
      "search_type_raw          4846 non-null object\n",
      "search_type              4846 non-null object\n",
      "contraband_found         318669 non-null bool\n",
      "stop_outcome             313313 non-null object\n",
      "is_arrested              313313 non-null object\n",
      "officer_id               318669 non-null object\n",
      "stop_duration            318669 non-null object\n",
      "dtypes: bool(2), float64(2), int64(1), object(19)\n",
      "memory usage: 54.1+ MB\n",
      "None\n",
      "\n",
      "============================================\n",
      "\n",
      "This is the info for the null values contained within each column:\n",
      "\n",
      "id                            0\n",
      "state                         0\n",
      "stop_date                     0\n",
      "stop_time                   222\n",
      "location_raw                 41\n",
      "county_name                  42\n",
      "county_fips                  42\n",
      "fine_grained_location      1663\n",
      "police_department             0\n",
      "driver_gender                 0\n",
      "driver_age_raw                0\n",
      "driver_age                  274\n",
      "driver_race_raw               0\n",
      "driver_race                   0\n",
      "violation_raw                 0\n",
      "violation                     0\n",
      "search_conducted              0\n",
      "search_type_raw          313823\n",
      "search_type              313823\n",
      "contraband_found              0\n",
      "stop_outcome               5356\n",
      "is_arrested                5356\n",
      "officer_id                    0\n",
      "stop_duration                 0\n",
      "dtype: int64\n",
      "\n",
      "============================================\n",
      "\n",
      "The counties are: ['Fairfield County' 'Tolland County' 'New London County' 'Hartford County'\n",
      " 'Litchfield County' 'New Haven County' 'Middlesex County'\n",
      " 'Windham County' nan]\n",
      "The police departments are: ['State Police']\n",
      "The number of police officers involved are: 2105\n"
     ]
    }
   ],
   "source": [
    "CT= pd.read_csv('CT.csv')\n",
    "\n",
    "print('This is the info for each column within the dataframe:\\n')\n",
    "print(CT.info())\n",
    "print('\\n============================================\\n')\n",
    "print('This is the info for the null values contained within each column:\\n')\n",
    "print(CT.isnull().sum())\n",
    "print('\\n============================================\\n')\n",
    "CT_clean= CT.loc[:,['id','stop_date','stop_time', 'county_name','police_department', 'driver_gender','driver_age','driver_race','search_conducted','search_type','is_arrested','stop_outcome','contraband_found','officer_id','stop_duration','violation']]\n",
    "\n",
    "# Lets find the amount of unique counties, the unique pds, the unique officers. \n",
    "\n",
    "print('The counties are: ' + str(CT_clean['county_name'].unique()))\n",
    "print('The police departments are: ' + str(CT_clean['police_department'].unique()))\n",
    "print('The number of police officers involved are: ' + str(CT_clean['officer_id'].nunique()))"
   ]
  },
  {
   "cell_type": "code",
   "execution_count": 4,
   "metadata": {},
   "outputs": [
    {
     "name": "stdout",
     "output_type": "stream",
     "text": [
      "There is only one police department, so I will go ahead and drop that from the analysis.\n",
      "The rows county name and the driver age are going to be cruicial to our analysis, so I will remove the missing values!\n",
      "\n",
      "\n",
      "============================================\n",
      "\n",
      "This a boolean slice finding the missing values of the DataFrame. I will go ahead and clear out these values from the dataframe, they all look to be interelated.\n",
      "This leads me to believe that it is a result of bad reporting.\n",
      "\n",
      "\n",
      "============================================\n",
      "\n",
      "                id   stop_date stop_time       county_name driver_gender  \\\n",
      "37   CT-2013-00038  2013-10-01     00:54  New Haven County             M   \n",
      "102  CT-2013-00103  2013-10-01     05:06  New Haven County             M   \n",
      "158  CT-2013-00159  2013-10-01     07:52   Hartford County             M   \n",
      "167  CT-2013-00168  2013-10-01     08:35   Hartford County             M   \n",
      "169  CT-2013-00170  2013-10-01     08:45   Hartford County             M   \n",
      "\n",
      "     driver_age driver_race  search_conducted search_type is_arrested  \\\n",
      "37         22.0       White             False         NaN         NaN   \n",
      "102        41.0       White             False         NaN         NaN   \n",
      "158        60.0       White             False         NaN         NaN   \n",
      "167        30.0       White             False         NaN         NaN   \n",
      "169        27.0       White             False         NaN         NaN   \n",
      "\n",
      "    stop_outcome  contraband_found  officer_id stop_duration violation  \n",
      "37           NaN             False  1000002951      1-15 min     Other  \n",
      "102          NaN             False    44294139      1-15 min  Speeding  \n",
      "158          NaN             False   355030672      1-15 min     Other  \n",
      "167          NaN             False   355030672      1-15 min     Other  \n",
      "169          NaN             False   355030672      1-15 min     Other  \n",
      "\n",
      "============================================\n",
      "\n",
      "Dropping the null values from the data frame:\n",
      "\n",
      "\n",
      "id                       0\n",
      "stop_date                0\n",
      "stop_time              220\n",
      "county_name              0\n",
      "driver_gender            0\n",
      "driver_age               0\n",
      "driver_race              0\n",
      "search_conducted         0\n",
      "search_type         308332\n",
      "is_arrested              0\n",
      "stop_outcome             0\n",
      "contraband_found         0\n",
      "officer_id               0\n",
      "stop_duration            0\n",
      "violation                0\n",
      "dtype: int64\n",
      "\n",
      "============================================\n",
      "\n",
      "These are the data types for the columns:\n",
      "\n",
      "id                   object\n",
      "stop_date            object\n",
      "stop_time            object\n",
      "county_name          object\n",
      "driver_gender        object\n",
      "driver_age          float64\n",
      "driver_race          object\n",
      "search_conducted       bool\n",
      "search_type          object\n",
      "is_arrested          object\n",
      "stop_outcome         object\n",
      "contraband_found       bool\n",
      "officer_id           object\n",
      "stop_duration        object\n",
      "violation            object\n",
      "dtype: object\n",
      "\n",
      "============================================\n",
      "\n",
      "These are the data types after conversion:\n",
      "\n",
      "id                    object\n",
      "stop_date             object\n",
      "stop_time             object\n",
      "county_name           object\n",
      "driver_gender       category\n",
      "driver_age           float64\n",
      "driver_race           object\n",
      "search_conducted        bool\n",
      "search_type         category\n",
      "is_arrested             bool\n",
      "stop_outcome        category\n",
      "contraband_found        bool\n",
      "officer_id            object\n",
      "stop_duration         object\n",
      "violation             object\n",
      "dtype: object\n"
     ]
    }
   ],
   "source": [
    "print('There is only one police department, so I will go ahead and drop that from the analysis.')\n",
    "CT_clean.drop('police_department', axis='columns', inplace=True)\n",
    "CT_clean.isnull().sum()\n",
    "print('The rows county name and the driver age are going to be cruicial to our analysis, so I will remove the missing values!\\n')\n",
    "CT_clean.dropna(subset=['county_name','driver_age'], inplace=True)\n",
    "CT_clean.isnull().sum()\n",
    "print('\\n============================================\\n')\n",
    "print('This a boolean slice finding the missing values of the DataFrame. I will go ahead and clear out these values from the dataframe, they all look to be interelated.')\n",
    "print('This leads me to believe that it is a result of bad reporting.\\n')\n",
    "print('\\n============================================\\n')\n",
    "print((CT_clean[CT_clean['stop_outcome'].isnull()]).head())\n",
    "print('\\n============================================\\n')\n",
    "print('Dropping the null values from the data frame:\\n')\n",
    "CT_clean.dropna(subset=['stop_outcome'],inplace=True)\n",
    "print()\n",
    "print(CT_clean.isnull().sum())\n",
    "\n",
    "print('\\n============================================\\n')\n",
    "print('These are the data types for the columns:\\n')\n",
    "print(CT_clean.dtypes)\n",
    "CT_clean['driver_gender']=CT_clean.driver_gender.astype('category')\n",
    "CT_clean['search_type']=CT_clean.search_type.astype('category')\n",
    "CT_clean['is_arrested']=CT_clean.is_arrested.astype('bool')\n",
    "CT_clean['stop_outcome']= CT_clean.stop_outcome.astype('category')\n",
    "print('\\n============================================\\n')\n",
    "print('These are the data types after conversion:\\n')\n",
    "print(CT_clean.dtypes)"
   ]
  },
  {
   "cell_type": "markdown",
   "metadata": {},
   "source": [
    "### Combining the datetime columns into a single column and converting to a datetime object."
   ]
  },
  {
   "cell_type": "code",
   "execution_count": 56,
   "metadata": {},
   "outputs": [],
   "source": [
    "datetime= CT_clean.stop_date.str.cat(CT_clean.stop_time, sep = ' ')\n",
    "CT_clean['Date_Time']= pd.to_datetime(datetime)\n",
    "CT_clean.set_index('Date_Time', inplace=True)"
   ]
  },
  {
   "cell_type": "markdown",
   "metadata": {},
   "source": [
    "# Now let's begin analysis.\n"
   ]
  },
  {
   "cell_type": "markdown",
   "metadata": {},
   "source": [
    "##  Stop Outcome by Race\n"
   ]
  },
  {
   "cell_type": "code",
   "execution_count": 90,
   "metadata": {},
   "outputs": [
    {
     "name": "stdout",
     "output_type": "stream",
     "text": [
      "Ticket is the most common stop outcome.\n",
      "Verbal Warning is the 2nd most common stop outcome.\n",
      "Written Warning is the 3rd most common stop outcome.\n",
      "Summons is the 4th most common outcome.\n",
      "Arrest is the 5th most common outcome.\n",
      "\n",
      "===========================================================\n",
      "\n",
      "White driver's are the most common stopped.\n",
      "Black  driver's are the 2nd common stopped.\n",
      "Hispanic  driver's are the 3rd most common stopped.\n",
      "Asian driver's are the 4th most common stopped.\n",
      "Other driver's are the 5th most common stopped.\n",
      "\n",
      "========================================================\n",
      "\n"
     ]
    },
    {
     "data": {
      "image/png": "[encoded data removed]",
      "text/plain": [
       "<Figure size 432x288 with 1 Axes>"
      ]
     },
     "metadata": {},
     "output_type": "display_data"
    }
   ],
   "source": [
    "Outcomes=CT_clean.stop_outcome.value_counts()\n",
    "Outcomes= pd.DataFrame(Outcomes)\n",
    "Outcomes=Outcomes.reset_index()\n",
    "# Again, We will have to look at the nan values and realize that the rows with nans had a True bool for is arrest.\n",
    "\n",
    "place=1\n",
    "for out in Outcomes['index']:\n",
    "    if place == 1:\n",
    "        print(str(out), 'is the most common stop outcome.')\n",
    "        place+=1\n",
    "    elif place == 2:\n",
    "        print(str(out), 'is the 2nd most common stop outcome.')\n",
    "        place += 1\n",
    "    elif place == 3:\n",
    "        print(str(out), 'is the 3rd most common stop outcome.')\n",
    "        place+=1\n",
    "    else:\n",
    "        print(str(out),'is the', str(place)+'th most common outcome.')\n",
    "        place+=1\n",
    "    \n",
    "print('\\n===========================================================\\n')\n",
    "Driver_race=CT_clean.driver_race.value_counts()\n",
    "Driver_race=pd.DataFrame(Driver_race)\n",
    "Driver_race=Driver_race.reset_index()\n",
    "\n",
    "place=1\n",
    "for driver in Driver_race['index']:\n",
    "    if place == 1:\n",
    "        print(str(driver)+ \" driver's are the most common stopped.\")\n",
    "        place+=1\n",
    "    elif place == 2:\n",
    "        print(str(driver), \" driver's are the 2nd common stopped.\")\n",
    "        place += 1\n",
    "    elif place == 3:\n",
    "        print(str(driver), \" driver's are the 3rd most common stopped.\")\n",
    "        place+=1\n",
    "    else:\n",
    "        print(str(driver)+ \" driver's are the\", str(place)+\"th most common stopped.\")\n",
    "        place+=1\n",
    "print('\\n========================================================\\n')\n",
    "\n",
    "White= CT_clean[CT_clean.driver_race=='White']\n",
    "Black= CT_clean[CT_clean.driver_race=='Black']\n",
    "Hispanic=CT_clean[CT_clean.driver_race=='Hispanic']\n",
    "Asian=CT_clean[CT_clean.driver_race=='Asian']\n",
    "Other=CT_clean[CT_clean.driver_race=='Other']\n",
    "\n",
    "WhitePerc=White.stop_outcome.value_counts(normalize=True)\n",
    "BlackPerc=Black.stop_outcome.value_counts(normalize=True)\n",
    "HispanicPerc= Hispanic.stop_outcome.value_counts(normalize=True)\n",
    "AsianPerc=Asian.stop_outcome.value_counts(normalize=True)\n",
    "OtherPerc=Other.stop_outcome.value_counts(normalize=True)\n",
    "\n",
    "WhitePercdf=pd.DataFrame(WhitePerc)\n",
    "BlackPercdf=pd.DataFrame(BlackPerc)\n",
    "AsianPercdf=pd.DataFrame(AsianPerc)\n",
    "HispanicPercdf=pd.DataFrame(HispanicPerc)\n",
    "OtherPercdf=pd.DataFrame(OtherPerc)\n",
    "\n",
    "WhitePercdf=WhitePercdf.reset_index()\n",
    "BlackPercdf=BlackPercdf.reset_index()\n",
    "AsianPercdf=AsianPerc.reset_index()\n",
    "HispanicPercdf=HispanicPerc.reset_index()\n",
    "OtherPercdf=OtherPerc.reset_index()\n",
    "\n",
    "WhitePercdf.columns=['Offense_Outcome','White_Ratio']\n",
    "BlackPercdf.columns=['Offense_Outcome','Black_Ratio']\n",
    "AsianPercdf.columns=['Offense_Outcome','Asian_Ratio']\n",
    "HispanicPercdf.columns=['Offense_Outcome','Hispanic_Ratio']\n",
    "OtherPercdf.columns=['Offense_Outcome','Other_Ratio']\n",
    "\n",
    "Total_Perc=pd.merge(WhitePercdf,BlackPercdf)\n",
    "Total_Perc=pd.merge(Total_Perc,AsianPercdf)\n",
    "Total_Perc=pd.merge(Total_Perc,HispanicPercdf)\n",
    "Total_Perc=pd.merge(Total_Perc,OtherPercdf)\n",
    "\n",
    "Total_Perc=Total_Perc.set_index('Offense_Outcome')\n",
    "Total_Perc.col_name='Ratios'\n",
    "Total_Perc.head()\n",
    "\n",
    "\n",
    "Total_Perc.plot.bar(title='Race Proportions')\n",
    "plt.title('Proportion of Stop Outcome by Race in CT')\n",
    "plt.xlabel('Stop Outcome')\n",
    "plt.ylabel('Proportion')\n",
    "plt.show()\n"
   ]
  },
  {
   "cell_type": "markdown",
   "metadata": {},
   "source": [
    "# Analysis of Stop Outcome\n",
    "\n",
    "So looking at this, it can give an idea as to what the most likely outcome is going to be for each race. This shows that for all races, you are more likely to get a ticket.  However, for somebody who is african american or hispanic, you are more likely to receive a summons or even be arrested. The increase in percentage is minute, but still present and visible. It is interesting to note that caucasian people receive a greater proportion of verbal warnings and written warning than do drivers of other races. Whereas hispanics and african american have increased proportions for summons and arrests."
   ]
  },
  {
   "cell_type": "markdown",
   "metadata": {},
   "source": [
    "# Violation by Gender"
   ]
  },
  {
   "cell_type": "code",
   "execution_count": 11,
   "metadata": {},
   "outputs": [
    {
     "name": "stdout",
     "output_type": "stream",
     "text": [
      "Speeding                                                        99832\n",
      "Other                                                           85687\n",
      "Registration/plates                                             36690\n",
      "Moving violation                                                27574\n",
      "Cell phone                                                      19874\n",
      "Seat belt                                                       11916\n",
      "Lights                                                          11895\n",
      "Stop sign/light                                                  7009\n",
      "Safe movement                                                    4970\n",
      "Equipment                                                        2841\n",
      "License                                                          2643\n",
      "Other,Registration/plates                                         495\n",
      "Other,Speeding                                                    425\n",
      "Moving violation,Other                                            136\n",
      "Lights,Other                                                       86\n",
      "License,Other                                                      76\n",
      "Registration/plates,Speeding                                       75\n",
      "Moving violation,Speeding                                          71\n",
      "Other,Seat belt                                                    67\n",
      "Cell phone,Other                                                   61\n",
      "License,Registration/plates                                        50\n",
      "Other,Stop sign/light                                              49\n",
      "License,Other,Registration/plates                                  40\n",
      "Equipment,Other                                                    36\n",
      "Lights,Registration/plates                                         35\n",
      "License,Speeding                                                   33\n",
      "Lights,Speeding                                                    26\n",
      "Seat belt,Speeding                                                 24\n",
      "Equipment,Registration/plates                                      18\n",
      "Other,Safe movement                                                18\n",
      "                                                                ...  \n",
      "Seat belt,Stop sign/light                                           1\n",
      "License,Registration/plates,Seat belt                               1\n",
      "Safe movement,Seat belt                                             1\n",
      "License,Lights,Registration/plates                                  1\n",
      "Equipment,Other,Registration/plates,Seat belt                       1\n",
      "Equipment,Other,Registration/plates,Speeding                        1\n",
      "Equipment,License,Moving violation                                  1\n",
      "Seat belt,Speeding,Stop sign/light                                  1\n",
      "Cell phone,License,Other                                            1\n",
      "Equipment,License,Speeding                                          1\n",
      "Equipment,License,Lights,Other,Registration/plates                  1\n",
      "Cell phone,Other,Registration/plates,Safe movement,Seat belt        1\n",
      "Equipment,Moving violation,Other                                    1\n",
      "Equipment,Lights,Other,Registration/plates                          1\n",
      "Cell phone,License,Moving violation,Other                           1\n",
      "License,Lights,Other                                                1\n",
      "License,Lights,Moving violation,Other                               1\n",
      "Equipment,Registration/plates,Seat belt                             1\n",
      "Lights,Moving violation,Registration/plates                         1\n",
      "Cell phone,Lights,Other                                             1\n",
      "Moving violation,Other,Speeding,Stop sign/light                     1\n",
      "Moving violation,Seat belt,Speeding                                 1\n",
      "Safe movement,Speeding                                              1\n",
      "Cell phone,Other,Stop sign/light                                    1\n",
      "License,Seat belt,Stop sign/light                                   1\n",
      "Other,Safe movement,Stop sign/light                                 1\n",
      "Lights,Registration/plates,Speeding                                 1\n",
      "Moving violation,Speeding,Stop sign/light                           1\n",
      "Cell phone,License,Registration/plates                              1\n",
      "Cell phone,Moving violation,Seat belt                               1\n",
      "Name: violation, Length: 125, dtype: int64\n"
     ]
    }
   ],
   "source": [
    "print(CT_clean.violation.value_counts())"
   ]
  },
  {
   "cell_type": "markdown",
   "metadata": {},
   "source": [
    "==========================\n",
    "\n",
    "I want to slim down the categories of violations to fewer than what are present.\n",
    "\n",
    "=========================="
   ]
  },
  {
   "cell_type": "markdown",
   "metadata": {},
   "source": [
    "### Reducing the number of categories present"
   ]
  },
  {
   "cell_type": "code",
   "execution_count": 83,
   "metadata": {},
   "outputs": [
    {
     "name": "stderr",
     "output_type": "stream",
     "text": [
      "/home/zeski/anaconda3/lib/python3.6/site-packages/IPython/core/interactiveshell.py:2785: DtypeWarning: Columns (22) have mixed types. Specify dtype option on import or set low_memory=False.\n",
      "  interactivity=interactivity, compiler=compiler, result=result)\n"
     ]
    }
   ],
   "source": [
    "Reduce=pd.read_csv('CT.csv')\n",
    "red=Reduce.loc[:,['id','violation']]\n",
    "\n",
    "Id=[]\n",
    "violation=[]\n",
    "for ID in red.id:\n",
    "    Id.append(ID)\n",
    "\n",
    "for vio in red.violation:\n",
    "    violation.append(vio)\n",
    "    \n",
    "violation2=[]\n",
    "for vio in violation:\n",
    "    if ',' in vio:\n",
    "        vio='Multiple'\n",
    "        violation2.append(vio)\n",
    "    else:\n",
    "        violation2.append(vio)\n",
    "\n",
    "\n",
    "id_vio=tuple(zip(Id,violation2))\n",
    "id_vio_dict={}\n",
    "for ID,entry in id_vio:\n",
    "    id_vio_dict[ID]=entry\n",
    "\n",
    "NewVio=pd.Series(id_vio_dict, name='violation_updated')\n",
    "NewVio.index.name='id'\n",
    "Vioupdt=NewVio.reset_index()\n",
    "\n",
    "CT_clean=pd.merge(CT_clean,Vioupdt, left_on='id',right_on='id')"
   ]
  },
  {
   "cell_type": "markdown",
   "metadata": {},
   "source": [
    "### Now to continue with analysis of Gender on types of violations"
   ]
  },
  {
   "cell_type": "code",
   "execution_count": 85,
   "metadata": {},
   "outputs": [
    {
     "name": "stdout",
     "output_type": "stream",
     "text": [
      "                     Female_proportion  Male_proportion\n",
      "violation                                              \n",
      "Speeding                      0.308381         0.324107\n",
      "Other                         0.270244         0.275371\n",
      "Registration/plates           0.128120         0.111629\n",
      "Cell phone                    0.084682         0.052729\n",
      "Moving violation              0.081318         0.091473\n",
      "Lights                        0.037500         0.038234\n",
      "Seat belt                     0.025947         0.044185\n",
      "Stop sign/light               0.025890         0.020608\n",
      "Safe movement                 0.016313         0.015649\n",
      "License                       0.008161         0.008582\n",
      "Multiple                      0.007116         0.006971\n",
      "Equipment                     0.006328         0.010463\n"
     ]
    },
    {
     "data": {
      "image/png": "[encoded data removed]",
      "text/plain": [
       "<Figure size 432x288 with 1 Axes>"
      ]
     },
     "metadata": {},
     "output_type": "display_data"
    }
   ],
   "source": [
    "female= CT_clean[CT_clean['driver_gender']=='F']\n",
    "male=CT_clean[CT_clean['driver_gender']=='M']\n",
    "\n",
    "femalePerc=pd.DataFrame(female.violation_updated.value_counts(normalize=True))\n",
    "malePerc=pd.DataFrame(male.violation_updated.value_counts(normalize=True))\n",
    "\n",
    "femalePerc=femalePerc.reset_index()\n",
    "malePerc=malePerc.reset_index()\n",
    "\n",
    "femalePerc.columns=['violation','Female_proportion']\n",
    "malePerc.columns=['violation','Male_proportion']\n",
    "\n",
    "GenderViolations=pd.merge(femalePerc,malePerc,left_on='violation',right_on='violation')\n",
    "GenderViolations=GenderViolations.set_index('violation')\n",
    "print(GenderViolations)\n",
    "GenderViolations.plot.bar(title='Gender Proportions')\n",
    "plt.ylabel('Proportions')\n",
    "plt.xlabel('Violation')\n",
    "plt.show()"
   ]
  },
  {
   "cell_type": "markdown",
   "metadata": {},
   "source": [
    "## Analysis of Violations by Gender:\n",
    "\n",
    "Because of the large amount of stop outcomes in the original column, I had to examine the column in more detail to find out the unique outcomes. It looked like that the outcomes were being chained together for stops that had more than one violation cited. The plot looked sloppy if I continued ahead and utilized the vanilla info for the column. Therefore, I reduced the number of violation types to 12 by combining all the unique stops with chained violations into multiple as you can see in the above plot. Looking at the above chart, It seems that speeding is the highest proportion for both genders. We can see that males have a higher representation for speeding violations while females have a higher representaion for cell phone usage and registration/plate violations. Let look at the stop outcomes for these violations in the next plot"
   ]
  },
  {
   "cell_type": "markdown",
   "metadata": {},
   "source": [
    "# Is there a correlation between gender and getting a speeding ticket?"
   ]
  },
  {
   "cell_type": "code",
   "execution_count": 65,
   "metadata": {},
   "outputs": [
    {
     "data": {
      "image/png": "[encoded data removed]",
      "text/plain": [
       "<Figure size 432x288 with 1 Axes>"
      ]
     },
     "metadata": {},
     "output_type": "display_data"
    }
   ],
   "source": [
    "femaleSpeed = female[female.violation == 'Speeding']\n",
    "FemSpeed= femaleSpeed.loc[:, ['driver_gender', 'violation', 'stop_outcome']]\n",
    "maleSpeed = male[male.violation == 'Speeding']\n",
    "MaleSpeed= maleSpeed.loc[:,['driver_gender', 'violation', 'stop_outcome']]\n",
    "\n",
    "MaleProp=MaleSpeed.stop_outcome.value_counts(normalize=True)\n",
    "MaleProp=pd.DataFrame(MaleProp)\n",
    "MaleProp =MaleProp.reset_index()\n",
    "MaleProp.columns = ['Speeding_Outcome', 'Male_Stop_Outcome']\n",
    "MaleProp['Male_Percentages']=(MaleProp.Male_Stop_Outcome * 100)\n",
    "\n",
    "FemProp=FemSpeed.stop_outcome.value_counts(normalize= True)\n",
    "FemProp=pd.DataFrame(FemProp)\n",
    "FemProp=FemProp.reset_index()\n",
    "FemProp.columns = ['Speeding_Outcome','Female_Stop_Outcome']\n",
    "FemProp['Female_Percentages'] = (FemProp.Female_Stop_Outcome * 100)\n",
    "\n",
    "\n",
    "GenderSpeedOutcome=pd.merge(MaleProp, FemProp, left_on ='Speeding_Outcome', right_on='Speeding_Outcome')\n",
    "GenderSpeedOutcome.drop(columns=['Male_Stop_Outcome','Female_Stop_Outcome'], inplace = True)\n",
    "GenderSpeedOutcome=GenderSpeedOutcome.set_index('Speeding_Outcome')\n",
    "GenderSpeedOutcome.plot.bar()\n",
    "\n",
    "plt.title('Percentage of Stop Outcomes for Speeding Offense by Gender')\n",
    "plt.xlabel('Stop OutCome')\n",
    "plt.ylabel('Percentages')\n",
    "plt.show()"
   ]
  },
  {
   "cell_type": "markdown",
   "metadata": {},
   "source": [
    "## Analysis of Gender and Stop Outcomes:\n",
    "\n",
    "After examining the violations for the genders, we can see the likelihoods of the stop outcomes for the genders above. Examining this, we can see that males are more likely to get a ticket than females. Both genders are equally likely to receive a verbal warning, however females are more likely to receive a written warning. This probably accounts for the disparities in the ticketed outcomes. While slim, males are more likely to receive a summons or be arrested. Looking back at the table before and the table below, the most ticketable offense is speeding. Depending on how fast the car is over the speed limit can be cause for serious fines and an automatic summons to court. Also, the search rate for males is over 2 times the rate for females. Depending on what is found within the car during a search, can play a huge role in determing an arrest or a summons."
   ]
  },
  {
   "cell_type": "markdown",
   "metadata": {},
   "source": [
    "# What is the relationship between Gender and searches?"
   ]
  },
  {
   "cell_type": "code",
   "execution_count": 66,
   "metadata": {},
   "outputs": [
    {
     "name": "stdout",
     "output_type": "stream",
     "text": [
      "               search_conducted\n",
      "driver_gender                  \n",
      "F                      0.776225\n",
      "M                      2.144548\n"
     ]
    }
   ],
   "source": [
    "SearchGender =CT_clean.groupby('driver_gender').search_conducted.mean()\n",
    "SearchGender=pd.DataFrame(SearchGender)\n",
    "SearchGender['search_conducted']=SearchGender['search_conducted'] * 100\n",
    "print(SearchGender)"
   ]
  },
  {
   "cell_type": "markdown",
   "metadata": {},
   "source": [
    "This shows that for all traffic stops that 2.1 % of those stops for males, a search was conducted whereas for females, a search was only conducted 0.77% of the time.\n",
    "This shows us that male drivers are searched nearly twice as often at traffic stops!"
   ]
  },
  {
   "cell_type": "markdown",
   "metadata": {},
   "source": [
    "# Does Time of Day affect arrest rate? \n"
   ]
  },
  {
   "cell_type": "markdown",
   "metadata": {},
   "source": [
    "Combinning the time related columns into a datetime column and setting the  index"
   ]
  },
  {
   "cell_type": "code",
   "execution_count": 67,
   "metadata": {},
   "outputs": [],
   "source": [
    "DateTime= CT_clean.stop_date.str.cat(CT_clean.stop_time, sep = ' ')\n",
    "CT_clean['DateTime']= pd.to_datetime(DateTime)\n",
    "CT_clean.set_index('DateTime', inplace=True)"
   ]
  },
  {
   "cell_type": "markdown",
   "metadata": {},
   "source": [
    "### Hourly arrest rate."
   ]
  },
  {
   "cell_type": "code",
   "execution_count": 69,
   "metadata": {},
   "outputs": [
    {
     "data": {
      "image/png": "[encoded data removed]",
      "text/plain": [
       "<Figure size 432x288 with 1 Axes>"
      ]
     },
     "metadata": {},
     "output_type": "display_data"
    }
   ],
   "source": [
    "HourlyArrestR8=CT_clean.groupby(CT_clean.index.hour).is_arrested.mean()\n",
    "HourlyArrestR8=pd.DataFrame(HourlyArrestR8)\n",
    "HourlyArrestR8.columns = ['arrest_percentage']\n",
    "HourlyArrestR8.arrest_percentage= HourlyArrestR8.arrest_percentage * 100\n",
    "\n",
    "\n",
    "HourlyArrestR8.plot()\n",
    "plt.xlabel('Time of Day (Military Hours)')\n",
    "plt.ylabel('Arrests Percentage')\n",
    "plt.title('Arrest Rate by Hour')\n",
    "plt.show()"
   ]
  },
  {
   "cell_type": "markdown",
   "metadata": {},
   "source": [
    "Looking at this chart above, we can see that time of day does play a significant role in the percentage of arrests. In the middle of the night, more arrests are likely to be made than during the day. What is interesting to note, is that this may be subject to bias of the cops, or could be due to other factors such as drunk driving, drug possession, less cars on the road providing less distractions, etc. "
   ]
  },
  {
   "cell_type": "markdown",
   "metadata": {},
   "source": [
    "### A look at arrests across the years."
   ]
  },
  {
   "cell_type": "code",
   "execution_count": 70,
   "metadata": {},
   "outputs": [
    {
     "data": {
      "image/png": "[encoded data removed]",
      "text/plain": [
       "<Figure size 432x288 with 1 Axes>"
      ]
     },
     "metadata": {},
     "output_type": "display_data"
    }
   ],
   "source": [
    "YearArrestR8=CT_clean.is_arrested.resample('A').mean()\n",
    "YearArrestR8=pd.DataFrame(YearArrestR8)\n",
    "YearArrestR8.columns =['Arrest_Rate']\n",
    "YearArrestR8['Arrest_Rate']=YearArrestR8.Arrest_Rate * 100\n",
    "\n",
    "YearArrestR8.plot.bar()\n",
    "plt.xlabel('Year')\n",
    "plt.ylabel('Arrest Percentage')\n",
    "plt.title('Arrest Rates by Year')\n",
    "plt.show()"
   ]
  },
  {
   "cell_type": "markdown",
   "metadata": {},
   "source": [
    "Examining this chart, there is a clear indication that as the years go by the arrest rate also climbs."
   ]
  },
  {
   "cell_type": "markdown",
   "metadata": {},
   "source": [
    "# Lets look at the average stop durations to see how long you might be stopped for."
   ]
  },
  {
   "cell_type": "code",
   "execution_count": 77,
   "metadata": {},
   "outputs": [
    {
     "data": {
      "image/png": "[encoded data removed]",
      "text/plain": [
       "<Figure size 432x288 with 1 Axes>"
      ]
     },
     "metadata": {},
     "output_type": "display_data"
    },
    {
     "data": {
      "image/png": "[encoded data removed]",
      "text/plain": [
       "<Figure size 432x288 with 1 Axes>"
      ]
     },
     "metadata": {},
     "output_type": "display_data"
    }
   ],
   "source": [
    "mapp={\n",
    "    '1-15 min':7.5,\n",
    "    '16-30 min':23,\n",
    "    '30+ min': 45\n",
    "}\n",
    "\n",
    "CT_clean['Stop_Duration_Map']= CT_clean.stop_duration.map(mapp)\n",
    "\n",
    "RaceStop= CT_clean.groupby('driver_race').Stop_Duration_Map.mean()\n",
    "\n",
    "RaceStop.sort_values().plot(kind='barh')\n",
    "plt.title('Average Stop Time by Race')\n",
    "plt.xlabel('Stop Time')\n",
    "plt.ylabel(\"DRiver's Race\")\n",
    "plt.show()\n",
    "\n",
    "GenderStop=CT_clean.groupby('driver_gender').Stop_Duration_Map.mean()\n",
    "GenderStop.sort_values().plot(kind='barh')\n",
    "plt.title('Average Stop Time by Gender')\n",
    "plt.xlabel('Stop Time')\n",
    "plt.ylabel('Driver Gender')\n",
    "plt.show()"
   ]
  },
  {
   "cell_type": "markdown",
   "metadata": {},
   "source": [
    "Finally looking at the final two charts, we can see the disparities betweens the average time a member of the represented demographics groups will be stopped for. It seems that while males are more likely to get a summons, arrested, or a ticket, they are also more likely to be stopped for alonger period of time. Furthermore, if we examine the top graph, we can see that while african americans and hispanics are far more likely to receive a summons or arrest. They too are more likely to be stopped for a longer period of time. The length in which an individual are stopped could have a direct corrrelation on the stop outcome considering that the longer the stop time could be a result of a police officer conducting a search."
   ]
  }
 ],
 "metadata": {
  "kernelspec": {
   "display_name": "Python 3",
   "language": "python",
   "name": "python3"
  },
  "language_info": {
   "codemirror_mode": {
    "name": "ipython",
    "version": 3
   },
   "file_extension": ".py",
   "mimetype": "text/x-python",
   "name": "python",
   "nbconvert_exporter": "python",
   "pygments_lexer": "ipython3",
   "version": "3.6.5"
  }
 },
 "nbformat": 4,
 "nbformat_minor": 2
}
